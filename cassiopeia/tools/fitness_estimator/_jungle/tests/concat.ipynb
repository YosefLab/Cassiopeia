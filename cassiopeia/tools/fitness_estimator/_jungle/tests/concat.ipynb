{
 "cells": [
  {
   "cell_type": "markdown",
   "metadata": {
    "Collapsed": "false"
   },
   "source": [
    "# Tests for concatenating Forests (F.concat())"
   ]
  },
  {
   "cell_type": "markdown",
   "metadata": {
    "Collapsed": "false"
   },
   "source": [
    "Purpose: test functionality of F.concat(other)"
   ]
  },
  {
   "cell_type": "code",
   "execution_count": 1,
   "metadata": {
    "Collapsed": "false"
   },
   "outputs": [],
   "source": [
    "import sys\n",
    "import os\n",
    "import time\n",
    "import copy\n",
    "import random\n",
    "import math\n",
    "import itertools\n",
    "\n",
    "import numpy as np\n",
    "import scipy\n",
    "import pandas as pd\n",
    "\n",
    "# Set pandas display options\n",
    "pd.set_option('display.max_rows', 30)\n",
    "pd.set_option('display.max_columns', 100)\n",
    "pd.set_option('display.width', 1000)\n",
    "\n",
    "%matplotlib inline\n",
    "from matplotlib import pyplot as plt\n",
    "import matplotlib as mpl\n",
    "import seaborn as sns\n",
    "\n",
    "# Set plot display options\n",
    "params = {\n",
    "    'font.size': 12,\n",
    "    'axes.titlesize': 12,\n",
    "    'axes.labelsize': 12,\n",
    "    'legend.fontsize': 12,\n",
    "    'xtick.labelsize': 12,\n",
    "    'ytick.labelsize': 12,\n",
    "    'font.family': \"Helvetica\",\n",
    "    'pdf.fonttype': 42,\n",
    "    'ps.fonttype': 42,\n",
    "    'figure.dpi': 300\n",
    "   }\n",
    "mpl.rcParams.update(params)\n",
    "sns.set_style(\"ticks\", {'axes.grid' : False})\n",
    "\n",
    "# Set plot output options\n",
    "output_dir = \"outs/\"\n",
    "output_suffix = \"\"\n",
    "output_formats = [\".png\", \".pdf\"]\n",
    "\n",
    "mpl.rc('savefig', dpi=300)\n",
    "\n",
    "# Define convenience function for saving figures\n",
    "\n",
    "savefig = True\n",
    "savefig_args = {\"dpi\": 300, \"bbox_inches\": \"tight\", \"pad_inches\": 0}\n",
    "\n",
    "def save_figure(fig, name, output_dir=output_dir, output_suffix=output_suffix, output_formats=output_formats, savefig_args=savefig_args):\n",
    "    if savefig:\n",
    "        for output_format in output_formats:\n",
    "            fig.savefig(output_dir + \"/\" + name + output_suffix + output_format, **savefig_args)\n",
    "    return None"
   ]
  },
  {
   "cell_type": "code",
   "execution_count": 2,
   "metadata": {
    "Collapsed": "false"
   },
   "outputs": [],
   "source": [
    "sys.path.append(\"../../jungle/\") # specify path to jungle\n",
    "import jungle as jg"
   ]
  },
  {
   "cell_type": "markdown",
   "metadata": {
    "Collapsed": "false"
   },
   "source": [
    "# Test simplest case of concatenating two forests"
   ]
  },
  {
   "cell_type": "code",
   "execution_count": 3,
   "metadata": {
    "Collapsed": "false"
   },
   "outputs": [],
   "source": [
    "# Generate two forests\n",
    "\n",
    "n_trees = 10\n",
    "n_leaves = 100\n",
    "\n",
    "F1 = jg.Forest.generate(n_trees=n_trees, name=\"kingman\", params={\"n_leaves\": n_leaves, \"alpha\": 2.0})\n",
    "F2 = jg.Forest.generate(n_trees=n_trees, name=\"kingman\", params={\"n_leaves\": n_leaves, \"alpha\": 2.0})"
   ]
  },
  {
   "cell_type": "code",
   "execution_count": 4,
   "metadata": {
    "Collapsed": "false"
   },
   "outputs": [],
   "source": [
    "# Concatenate them\n",
    "Fc = F1.concat(F2)"
   ]
  },
  {
   "cell_type": "code",
   "execution_count": 6,
   "metadata": {
    "Collapsed": "false"
   },
   "outputs": [
    {
     "name": "stdout",
     "output_type": "stream",
     "text": [
      "10\n",
      "10\n",
      "20\n"
     ]
    }
   ],
   "source": [
    "# Check that everything is OK\n",
    "\n",
    "print len(F1)\n",
    "print len(F2)\n",
    "print len(Fc)"
   ]
  },
  {
   "cell_type": "markdown",
   "metadata": {
    "Collapsed": "false"
   },
   "source": [
    "# Test concatenating two forests with additional attributes"
   ]
  },
  {
   "cell_type": "code",
   "execution_count": 14,
   "metadata": {
    "Collapsed": "false"
   },
   "outputs": [
    {
     "name": "stdout",
     "output_type": "stream",
     "text": [
      "10\n",
      "10\n",
      "20\n",
      "10\n",
      "10\n",
      "20\n",
      "10\n",
      "10\n",
      "20\n"
     ]
    }
   ],
   "source": [
    "# Test \n",
    "# Generate two forests\n",
    "\n",
    "n_trees = 10\n",
    "n_leaves = 100\n",
    "\n",
    "F1 = jg.Forest.generate(n_trees=n_trees, name=\"kingman\", params={\"n_leaves\": n_leaves, \"alpha\": 2.0})\n",
    "F2 = jg.Forest.generate(n_trees=n_trees, name=\"kingman\", params={\"n_leaves\": n_leaves, \"alpha\": 2.0})\n",
    "\n",
    "# Calculate some metrics\n",
    "F1.site_frequency_spectrum()\n",
    "F2.site_frequency_spectrum()\n",
    "\n",
    "F1.fay_and_wus_H()\n",
    "F2.fay_and_wus_H()\n",
    "\n",
    "# Concatenate them\n",
    "Fc = F1.concat(F2)\n",
    "\n",
    "# Check that everything is OK\n",
    "\n",
    "print len(F1)\n",
    "print len(F2)\n",
    "print len(Fc)\n",
    "\n",
    "print len(F1._site_frequency_spectrum)\n",
    "print len(F2._site_frequency_spectrum)\n",
    "print len(Fc._site_frequency_spectrum)\n",
    "\n",
    "print len(F1._fay_and_wus_H)\n",
    "print len(F2._fay_and_wus_H)\n",
    "print len(Fc._fay_and_wus_H)"
   ]
  },
  {
   "cell_type": "markdown",
   "metadata": {
    "Collapsed": "false"
   },
   "source": [
    "# Test concatenating two forests with additional attributes of mismatched lengths"
   ]
  },
  {
   "cell_type": "code",
   "execution_count": 16,
   "metadata": {
    "Collapsed": "false"
   },
   "outputs": [
    {
     "name": "stdout",
     "output_type": "stream",
     "text": [
      "10\n",
      "10\n",
      "20\n",
      "10\n",
      "10\n",
      "20\n",
      "10\n",
      "10\n"
     ]
    }
   ],
   "source": [
    "# Generate two forests\n",
    "\n",
    "n_trees = 10\n",
    "n_leaves = 100\n",
    "\n",
    "F1 = jg.Forest.generate(n_trees=n_trees, name=\"kingman\", params={\"n_leaves\": n_leaves, \"alpha\": 2.0})\n",
    "F2 = jg.Forest.generate(n_trees=n_trees, name=\"kingman\", params={\"n_leaves\": n_leaves, \"alpha\": 2.0})\n",
    "\n",
    "# Calculate some metrics\n",
    "F1.site_frequency_spectrum()\n",
    "F2.site_frequency_spectrum()\n",
    "\n",
    "F1.fay_and_wus_H()\n",
    "\n",
    "# Concatenate them\n",
    "Fc = F1.concat(F2)\n",
    "\n",
    "# Check that everything is OK\n",
    "\n",
    "print len(F1)\n",
    "print len(F2)\n",
    "print len(Fc)\n",
    "\n",
    "print len(F1._site_frequency_spectrum)\n",
    "print len(F2._site_frequency_spectrum)\n",
    "print len(Fc._site_frequency_spectrum)\n",
    "\n",
    "print len(F1._fay_and_wus_H)\n",
    "print len(Fc._fay_and_wus_H)"
   ]
  },
  {
   "cell_type": "code",
   "execution_count": 19,
   "metadata": {
    "Collapsed": "false"
   },
   "outputs": [
    {
     "name": "stdout",
     "output_type": "stream",
     "text": [
      "10\n",
      "20\n"
     ]
    }
   ],
   "source": [
    "# Calculate attribute again\n",
    "Fc.fay_and_wus_H()\n",
    "\n",
    "print len(F1._fay_and_wus_H)\n",
    "print len(Fc._fay_and_wus_H)"
   ]
  },
  {
   "cell_type": "markdown",
   "metadata": {
    "Collapsed": "false"
   },
   "source": [
    "# Test concatenating empty Forest"
   ]
  },
  {
   "cell_type": "code",
   "execution_count": 20,
   "metadata": {
    "Collapsed": "false"
   },
   "outputs": [
    {
     "name": "stdout",
     "output_type": "stream",
     "text": [
      "10\n",
      "0\n",
      "10\n"
     ]
    }
   ],
   "source": [
    "# Make an empty forest\n",
    "F3 = jg.Forest()\n",
    "\n",
    "# Concatenate to existing forest\n",
    "Fc_empty = F1.concat(F3)\n",
    "\n",
    "# Check that everything is OK\n",
    "\n",
    "print len(F1)\n",
    "print len(F3)\n",
    "print len(Fc_empty)"
   ]
  }
 ],
 "metadata": {
  "kernelspec": {
   "display_name": "jungle",
   "language": "python",
   "name": "jungle"
  },
  "language_info": {
   "codemirror_mode": {
    "name": "ipython",
    "version": 2
   },
   "file_extension": ".py",
   "mimetype": "text/x-python",
   "name": "python",
   "nbconvert_exporter": "python",
   "pygments_lexer": "ipython2",
   "version": "2.7.17"
  }
 },
 "nbformat": 4,
 "nbformat_minor": 4
}
