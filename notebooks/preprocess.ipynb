{
 "cells": [
  {
   "cell_type": "markdown",
   "metadata": {},
   "source": [
    "### Cassiopeia-Preprocess\n",
    "\n",
    "This notebook serves as a tutorial for the `Cassiopeia-Preprocess` module, which processes sequencing data into \"Character Matrices\" ready to pass into a phylogeny-inference algorithm. The pipeline consists of 7 main steps:\n",
    "\n",
    "0. Run `cellranger count` on the raw Fastq files to obtain BAMs relating read names to sequences.\n",
    "1. \"Collapse\" sequences, indexed by UMIs, thereby counting reads.\n",
    "2. \"Resolve\" UMI sequences, choosing the most likely sequencing read to represent each UMI in a cell.\n",
    "3. \"Align\" sequences to the reference target site using a the Smith-Waterman local alignment algorithm.\n",
    "4. \"Call Alleles\" with respect to the reference target site and the alignment of a sequence, thereby reporting the set of mutations that a target site sequence contains.\n",
    "5. \"Error Correct UMIs\" whose mutation data is identical and whose UMI barcode sequences are similar enough.\n",
    "6. \"Filter\" UMIs that have conflicting allele information, too few reads, or do not meet other quality control criteria.\n",
    "7. \"Call lineages\", or split up cells into clonal populations, based on their shared set of integration barcodes (intBCs).\n",
    "\n",
    "The final output of this pipeline is an \"AlleleTable\" which stores the mutation data and clonal population identity for each cell. This data structure can then be broken up into character matrices for phylogenetic inference.\n",
    "\n",
    "\n",
    "## Pipeline API\n",
    "All of the key modules of `Cassiopeia-Preprocess` can be invoked by a call from `cassiopeia.pp`. Assuming the user would like to begin at the beginning of the pipeline, we'll start with the `collapse` stage. You can find all documentation on our [main site](https://cassiopeia-lineage.readthedocs.io/en/testdeployment/).\n",
    "\n",
    "An alternative to running the pipeline interactively is to take advantage of the command line tool `cassiopeia-preprocess`, which takes in a configuration file (for example in Cassiopeia/data/preprocess.cfg) and runs the pipeline end-to-end.\n",
    "\n",
    "The function assumes that the user has already run `cellranger count` to obtain a BAM for the sequencing library."
   ]
  },
  {
   "cell_type": "code",
   "execution_count": 5,
   "metadata": {},
   "outputs": [],
   "source": [
    "import pandas as pd\n",
    "\n",
    "import cassiopeia"
   ]
  },
  {
   "cell_type": "code",
   "execution_count": 6,
   "metadata": {},
   "outputs": [],
   "source": [
    "input_bam = \"/data/yosef2/users/mattjones/projects/scLineages/Cassiopeia/test_process_pipeline/test_possorted_genome_bam.subsampled.bam\"\n",
    "output_dir = \"/data/yosef2/users/mattjones/projects/scLineages/Cassiopeia/test_process_pipeline/\"\n",
    "target_site_reference = \"/data/yosef2/users/mattjones/projects/scLineages/Cassiopeia/data/PCT48.ref.fasta\"\n",
    "\n",
    "cassiopeia.pp.setup(output_dir)"
   ]
  },
  {
   "cell_type": "code",
   "execution_count": 7,
   "metadata": {},
   "outputs": [
    {
     "ename": "KeyboardInterrupt",
     "evalue": "",
     "output_type": "error",
     "traceback": [
      "\u001b[0;31m---------------------------------------------------------------------------\u001b[0m",
      "\u001b[0;31mKeyboardInterrupt\u001b[0m                         Traceback (most recent call last)",
      "\u001b[0;32m<ipython-input-7-887856050e6e>\u001b[0m in \u001b[0;36m<module>\u001b[0;34m\u001b[0m\n\u001b[0;32m----> 1\u001b[0;31m \u001b[0mumi_table\u001b[0m \u001b[0;34m=\u001b[0m \u001b[0mcassiopeia\u001b[0m\u001b[0;34m.\u001b[0m\u001b[0mpp\u001b[0m\u001b[0;34m.\u001b[0m\u001b[0mcollapse_umis\u001b[0m\u001b[0;34m(\u001b[0m\u001b[0minput_bam\u001b[0m\u001b[0;34m,\u001b[0m \u001b[0moutput_dir\u001b[0m\u001b[0;34m)\u001b[0m\u001b[0;34m\u001b[0m\u001b[0;34m\u001b[0m\u001b[0m\n\u001b[0m",
      "\u001b[0;32m~/.local/lib/python3.6/site-packages/cassiopeia/preprocess/pipeline.py\u001b[0m in \u001b[0;36mcollapse_umis\u001b[0;34m(bam_fp, output_directory, max_hq_mismatches, max_indels, skip_existing)\u001b[0m\n\u001b[1;32m    100\u001b[0m \u001b[0;34m\u001b[0m\u001b[0m\n\u001b[1;32m    101\u001b[0m     df = utilities.convert_bam_to_df(\n\u001b[0;32m--> 102\u001b[0;31m         \u001b[0mstr\u001b[0m\u001b[0;34m(\u001b[0m\u001b[0mcollapsed_file_name\u001b[0m\u001b[0;34m)\u001b[0m\u001b[0;34m,\u001b[0m \u001b[0mstr\u001b[0m\u001b[0;34m(\u001b[0m\u001b[0mcollapsed_df_file_name\u001b[0m\u001b[0;34m)\u001b[0m\u001b[0;34m,\u001b[0m \u001b[0mcreate_pd\u001b[0m\u001b[0;34m=\u001b[0m\u001b[0;32mTrue\u001b[0m\u001b[0;34m\u001b[0m\u001b[0;34m\u001b[0m\u001b[0m\n\u001b[0m\u001b[1;32m    103\u001b[0m     )\n\u001b[1;32m    104\u001b[0m     \u001b[0mlogging\u001b[0m\u001b[0;34m.\u001b[0m\u001b[0minfo\u001b[0m\u001b[0;34m(\u001b[0m\u001b[0;34m\"Collapsed bam directory saved to \"\u001b[0m \u001b[0;34m+\u001b[0m \u001b[0mstr\u001b[0m\u001b[0;34m(\u001b[0m\u001b[0mcollapsed_file_name\u001b[0m\u001b[0;34m)\u001b[0m\u001b[0;34m)\u001b[0m\u001b[0;34m\u001b[0m\u001b[0;34m\u001b[0m\u001b[0m\n",
      "\u001b[0;32m~/.local/lib/python3.6/site-packages/cassiopeia/preprocess/utilities.py\u001b[0m in \u001b[0;36mconvert_bam_to_df\u001b[0;34m(data_fp, out_fp, create_pd)\u001b[0m\n\u001b[1;32m    320\u001b[0m             \u001b[0;34m+\u001b[0m \u001b[0;34m\"\\t\"\u001b[0m\u001b[0;34m\u001b[0m\u001b[0;34m\u001b[0m\u001b[0m\n\u001b[1;32m    321\u001b[0m             \u001b[0;34m+\u001b[0m \u001b[0mal\u001b[0m\u001b[0;34m.\u001b[0m\u001b[0mquery_name\u001b[0m\u001b[0;34m\u001b[0m\u001b[0;34m\u001b[0m\u001b[0m\n\u001b[0;32m--> 322\u001b[0;31m             \u001b[0;34m+\u001b[0m \u001b[0;34m\"\\n\"\u001b[0m\u001b[0;34m\u001b[0m\u001b[0;34m\u001b[0m\u001b[0m\n\u001b[0m\u001b[1;32m    323\u001b[0m         )\n\u001b[1;32m    324\u001b[0m \u001b[0;34m\u001b[0m\u001b[0m\n",
      "\u001b[0;31mKeyboardInterrupt\u001b[0m: "
     ]
    }
   ],
   "source": [
    "umi_table = cassiopeia.pp.collapse_umis(input_bam, output_dir)"
   ]
  },
  {
   "cell_type": "code",
   "execution_count": 4,
   "metadata": {},
   "outputs": [
    {
     "data": {
      "application/vnd.jupyter.widget-view+json": {
       "model_id": "8ceb54d8856f4478b4e1537495d201c3",
       "version_major": 2,
       "version_minor": 0
      },
      "text/plain": [
       "HBox(children=(FloatProgress(value=0.0, description='Resolving UMI sequences', max=1718439.0, style=ProgressSt…"
      ]
     },
     "metadata": {},
     "output_type": "display_data"
    },
    {
     "name": "stdout",
     "output_type": "stream",
     "text": [
      "\n"
     ]
    }
   ],
   "source": [
    "umi_table = cassiopeia.pp.resolve_umi_sequence(umi_table, output_dir)"
   ]
  },
  {
   "cell_type": "code",
   "execution_count": 5,
   "metadata": {},
   "outputs": [
    {
     "data": {
      "application/vnd.jupyter.widget-view+json": {
       "model_id": "75584e1c54cd40ae9efde9fdaa40f3c8",
       "version_major": 2,
       "version_minor": 0
      },
      "text/plain": [
       "HBox(children=(FloatProgress(value=0.0, description='Aligning sequences to reference', max=1073347.0, style=Pr…"
      ]
     },
     "metadata": {},
     "output_type": "display_data"
    },
    {
     "name": "stdout",
     "output_type": "stream",
     "text": [
      "\n"
     ]
    }
   ],
   "source": [
    "umi_table = cassiopeia.pp.align_sequences(umi_table, ref_filepath = target_site_reference)"
   ]
  },
  {
   "cell_type": "code",
   "execution_count": 6,
   "metadata": {},
   "outputs": [
    {
     "data": {
      "application/vnd.jupyter.widget-view+json": {
       "model_id": "acd4d8375b574b38ba4a528173cea350",
       "version_major": 2,
       "version_minor": 0
      },
      "text/plain": [
       "HBox(children=(FloatProgress(value=0.0, description='Parsing CIGAR strings into indels', max=1073347.0, style=…"
      ]
     },
     "metadata": {},
     "output_type": "display_data"
    },
    {
     "name": "stdout",
     "output_type": "stream",
     "text": [
      "\n"
     ]
    }
   ],
   "source": [
    "umi_table = cassiopeia.pp.call_alleles(umi_table, ref_filepath = target_site_reference)"
   ]
  },
  {
   "cell_type": "code",
   "execution_count": null,
   "metadata": {},
   "outputs": [
    {
     "data": {
      "application/vnd.jupyter.widget-view+json": {
       "model_id": "d11ac75f806c4b1daf25acf29f916c4d",
       "version_major": 2,
       "version_minor": 0
      },
      "text/plain": [
       "HBox(children=(FloatProgress(value=0.0, description='Error-correcting UMIs', max=122462.0, style=ProgressStyle…"
      ]
     },
     "metadata": {},
     "output_type": "display_data"
    }
   ],
   "source": [
    "umi_table = cassiopeia.pp.error_correct_umis(umi_table, _id = \"test\")"
   ]
  },
  {
   "cell_type": "code",
   "execution_count": 10,
   "metadata": {},
   "outputs": [
    {
     "data": {
      "application/vnd.jupyter.widget-view+json": {
       "model_id": "f56cb684a44f4bd09278ca5ba4f734e0",
       "version_major": 2,
       "version_minor": 0
      },
      "text/plain": [
       "HBox(children=(FloatProgress(value=0.0, description='Error Correcting intBCs', max=8466.0, style=ProgressStyle…"
      ]
     },
     "metadata": {},
     "output_type": "display_data"
    },
    {
     "name": "stdout",
     "output_type": "stream",
     "text": [
      "\n"
     ]
    },
    {
     "data": {
      "application/vnd.jupyter.widget-view+json": {
       "model_id": "3d91430562a8483ba3c67a931057a45d",
       "version_major": 2,
       "version_minor": 0
      },
      "text/plain": [
       "HBox(children=(FloatProgress(value=0.0, description='Mapping alleles to intBCs', max=82115.0, style=ProgressSt…"
      ]
     },
     "metadata": {},
     "output_type": "display_data"
    },
    {
     "name": "stdout",
     "output_type": "stream",
     "text": [
      "\n"
     ]
    }
   ],
   "source": [
    "umi_table = cassiopeia.pp.filter_molecule_table(umi_table, output_dir, plot=True)"
   ]
  },
  {
   "cell_type": "code",
   "execution_count": 11,
   "metadata": {},
   "outputs": [
    {
     "name": "stderr",
     "output_type": "stream",
     "text": [
      "/home/eecs/mattjones/.local/lib/python3.6/site-packages/cassiopeia/preprocess/lineage_utils.py:151: SettingWithCopyWarning: \n",
      "A value is trying to be set on a copy of a slice from a DataFrame.\n",
      "Try using .loc[row_indexer,col_indexer] = value instead\n",
      "\n",
      "See the caveats in the documentation: http://pandas.pydata.org/pandas-docs/stable/indexing.html#indexing-view-versus-copy\n",
      "  PIV_LG[\"lineageGrp\"] = iteration + 1\n",
      "/home/eecs/mattjones/.local/lib/python3.6/site-packages/pandas/core/frame.py:6692: FutureWarning: Sorting because non-concatenation axis is not aligned. A future version\n",
      "of pandas will change to not sort by default.\n",
      "\n",
      "To accept the future behavior, pass 'sort=False'.\n",
      "\n",
      "To retain the current behavior and silence the warning, pass 'sort=True'.\n",
      "\n",
      "  sort=sort)\n"
     ]
    }
   ],
   "source": [
    "allele_table = cassiopeia.pp.call_lineage_groups(umi_table, output_dir)"
   ]
  },
  {
   "cell_type": "code",
   "execution_count": 12,
   "metadata": {},
   "outputs": [
    {
     "data": {
      "text/html": [
       "<div>\n",
       "<style scoped>\n",
       "    .dataframe tbody tr th:only-of-type {\n",
       "        vertical-align: middle;\n",
       "    }\n",
       "\n",
       "    .dataframe tbody tr th {\n",
       "        vertical-align: top;\n",
       "    }\n",
       "\n",
       "    .dataframe thead th {\n",
       "        text-align: right;\n",
       "    }\n",
       "</style>\n",
       "<table border=\"1\" class=\"dataframe\">\n",
       "  <thead>\n",
       "    <tr style=\"text-align: right;\">\n",
       "      <th></th>\n",
       "      <th>cellBC</th>\n",
       "      <th>intBC</th>\n",
       "      <th>allele</th>\n",
       "      <th>r1</th>\n",
       "      <th>r2</th>\n",
       "      <th>r3</th>\n",
       "      <th>lineageGrp</th>\n",
       "      <th>UMI</th>\n",
       "      <th>readCount</th>\n",
       "      <th>Sample</th>\n",
       "    </tr>\n",
       "  </thead>\n",
       "  <tbody>\n",
       "    <tr>\n",
       "      <th>0</th>\n",
       "      <td>AAACCTGAGGCTAGAC-1</td>\n",
       "      <td>CCCCGTGCCTTCCT</td>\n",
       "      <td></td>\n",
       "      <td></td>\n",
       "      <td></td>\n",
       "      <td></td>\n",
       "      <td>4</td>\n",
       "      <td>15</td>\n",
       "      <td>186.0</td>\n",
       "      <td>AAACCTGAGGCTAGAC-1</td>\n",
       "    </tr>\n",
       "    <tr>\n",
       "      <th>1</th>\n",
       "      <td>AAACCTGAGGCTAGAC-1</td>\n",
       "      <td>CGACAATGTAGTTG</td>\n",
       "      <td>CTTTG[104:29D]TACGGGATAT[167:54D]CGGAGGATAT[16...</td>\n",
       "      <td>CTTTG[104:29D]TACGG</td>\n",
       "      <td>GATAT[167:54D]CGGAG</td>\n",
       "      <td>GATAT[167:54D]CGGAG</td>\n",
       "      <td>4</td>\n",
       "      <td>26</td>\n",
       "      <td>326.0</td>\n",
       "      <td>AAACCTGAGGCTAGAC-1</td>\n",
       "    </tr>\n",
       "    <tr>\n",
       "      <th>2</th>\n",
       "      <td>AAACCTGAGGCTAGAC-1</td>\n",
       "      <td>CGCGCGTCCGGGTC</td>\n",
       "      <td>CGCCG[111:1I]AAAAAACATAA[161:18D]CGTGAATTCG[No...</td>\n",
       "      <td>CGCCG[111:1I]AAAAAA</td>\n",
       "      <td>CATAA[161:18D]CGTGA</td>\n",
       "      <td>ATTCG[None]CGGAG</td>\n",
       "      <td>4</td>\n",
       "      <td>13</td>\n",
       "      <td>104.0</td>\n",
       "      <td>AAACCTGAGGCTAGAC-1</td>\n",
       "    </tr>\n",
       "    <tr>\n",
       "      <th>3</th>\n",
       "      <td>AAACCTGAGGCTAGAC-1</td>\n",
       "      <td>GACTTTAATGTACA</td>\n",
       "      <td>CCGAA[113:54D]CTCTGCCGAA[113:54D]CTCTGTAATT[21...</td>\n",
       "      <td>CCGAA[113:54D]CTCTG</td>\n",
       "      <td>CCGAA[113:54D]CTCTG</td>\n",
       "      <td>TAATT[219:2D]CGGAG</td>\n",
       "      <td>4</td>\n",
       "      <td>18</td>\n",
       "      <td>187.0</td>\n",
       "      <td>AAACCTGAGGCTAGAC-1</td>\n",
       "    </tr>\n",
       "    <tr>\n",
       "      <th>4</th>\n",
       "      <td>AAACCTGAGGCTAGAC-1</td>\n",
       "      <td>GATGGACATTGGGG</td>\n",
       "      <td>CCGAA[113:50D]ATATCCCGAA[113:50D]ATATCATTCG[No...</td>\n",
       "      <td>CCGAA[113:50D]ATATC</td>\n",
       "      <td>CCGAA[113:50D]ATATC</td>\n",
       "      <td>ATTCG[None]CGGAG</td>\n",
       "      <td>4</td>\n",
       "      <td>19</td>\n",
       "      <td>178.0</td>\n",
       "      <td>AAACCTGAGGCTAGAC-1</td>\n",
       "    </tr>\n",
       "  </tbody>\n",
       "</table>\n",
       "</div>"
      ],
      "text/plain": [
       "               cellBC           intBC  \\\n",
       "0  AAACCTGAGGCTAGAC-1  CCCCGTGCCTTCCT   \n",
       "1  AAACCTGAGGCTAGAC-1  CGACAATGTAGTTG   \n",
       "2  AAACCTGAGGCTAGAC-1  CGCGCGTCCGGGTC   \n",
       "3  AAACCTGAGGCTAGAC-1  GACTTTAATGTACA   \n",
       "4  AAACCTGAGGCTAGAC-1  GATGGACATTGGGG   \n",
       "\n",
       "                                              allele                   r1  \\\n",
       "0                                                                           \n",
       "1  CTTTG[104:29D]TACGGGATAT[167:54D]CGGAGGATAT[16...  CTTTG[104:29D]TACGG   \n",
       "2  CGCCG[111:1I]AAAAAACATAA[161:18D]CGTGAATTCG[No...  CGCCG[111:1I]AAAAAA   \n",
       "3  CCGAA[113:54D]CTCTGCCGAA[113:54D]CTCTGTAATT[21...  CCGAA[113:54D]CTCTG   \n",
       "4  CCGAA[113:50D]ATATCCCGAA[113:50D]ATATCATTCG[No...  CCGAA[113:50D]ATATC   \n",
       "\n",
       "                    r2                   r3  lineageGrp  UMI  readCount  \\\n",
       "0                                                     4   15      186.0   \n",
       "1  GATAT[167:54D]CGGAG  GATAT[167:54D]CGGAG           4   26      326.0   \n",
       "2  CATAA[161:18D]CGTGA     ATTCG[None]CGGAG           4   13      104.0   \n",
       "3  CCGAA[113:54D]CTCTG   TAATT[219:2D]CGGAG           4   18      187.0   \n",
       "4  CCGAA[113:50D]ATATC     ATTCG[None]CGGAG           4   19      178.0   \n",
       "\n",
       "               Sample  \n",
       "0  AAACCTGAGGCTAGAC-1  \n",
       "1  AAACCTGAGGCTAGAC-1  \n",
       "2  AAACCTGAGGCTAGAC-1  \n",
       "3  AAACCTGAGGCTAGAC-1  \n",
       "4  AAACCTGAGGCTAGAC-1  "
      ]
     },
     "execution_count": 12,
     "metadata": {},
     "output_type": "execute_result"
    }
   ],
   "source": [
    "allele_table.head(5)"
   ]
  },
  {
   "cell_type": "code",
   "execution_count": null,
   "metadata": {},
   "outputs": [],
   "source": []
  }
 ],
 "metadata": {
  "kernelspec": {
   "display_name": "Python 3",
   "language": "python",
   "name": "python3"
  },
  "language_info": {
   "codemirror_mode": {
    "name": "ipython",
    "version": 3
   },
   "file_extension": ".py",
   "mimetype": "text/x-python",
   "name": "python",
   "nbconvert_exporter": "python",
   "pygments_lexer": "ipython3",
   "version": "3.6.8"
  }
 },
 "nbformat": 4,
 "nbformat_minor": 4
}
